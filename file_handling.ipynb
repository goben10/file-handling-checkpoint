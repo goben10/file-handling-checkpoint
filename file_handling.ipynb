{
 "cells": [
  {
   "cell_type": "code",
   "execution_count": 40,
   "id": "7b7e75b3",
   "metadata": {
    "vscode": {
     "languageId": "plaintext"
    }
   },
   "outputs": [],
   "source": [
    "    import numpy as np"
   ]
  },
  {
   "cell_type": "code",
   "execution_count": 41,
   "id": "a7c25d5c",
   "metadata": {
    "vscode": {
     "languageId": "plaintext"
    }
   },
   "outputs": [],
   "source": [
    "file = open(\"Loan_prediction_dataset.csv\", \"r\")\n"
   ]
  },
  {
   "cell_type": "code",
   "execution_count": 38,
   "id": "8924b9d0-b968-4245-a2c7-0cff8c30da2b",
   "metadata": {},
   "outputs": [],
   "source": [
    "data = np.genfromtxt(file, delimiter=\",\", skip_header=1)\n"
   ]
  },
  {
   "cell_type": "code",
   "execution_count": null,
   "id": "c01822de-229c-4a20-8554-21b0012f73b9",
   "metadata": {},
   "outputs": [],
   "source": [
    "file.close()\n"
   ]
  },
  {
   "cell_type": "code",
   "execution_count": null,
   "id": "82bab38e-e7c4-4208-8a07-bbde6061d09d",
   "metadata": {},
   "outputs": [],
   "source": []
  },
  {
   "cell_type": "code",
   "execution_count": 29,
   "id": "3b80e435-de39-4020-8558-443f31270f4b",
   "metadata": {},
   "outputs": [],
   "source": [
    "loan_amounts = data[:, 8]\n"
   ]
  },
  {
   "cell_type": "code",
   "execution_count": null,
   "id": "0bce681c-d3a8-4476-9839-44ebe4075818",
   "metadata": {},
   "outputs": [],
   "source": [
    "mean_value = np.mean(loan_amounts)\n",
    "print(f\"Mean loan amount: {mean_value:.2f}\")"
   ]
  },
  {
   "cell_type": "code",
   "execution_count": null,
   "id": "c99c06e9-2c8a-4512-bceb-1ef95754f354",
   "metadata": {},
   "outputs": [],
   "source": [
    "median_value = np.median(loan_amounts)\n",
    "print(f\"Median loan amount: {median_value:.2f}\")"
   ]
  },
  {
   "cell_type": "code",
   "execution_count": null,
   "id": "b9070c86-3f77-418b-ba71-8bcad6ec6547",
   "metadata": {},
   "outputs": [],
   "source": [
    "std_deviation = np.std(loan_amounts)\n",
    "print(f\"Standard deviation of loan amounts: {std_deviation:.2f}\")"
   ]
  }
 ],
 "metadata": {
  "kernelspec": {
   "display_name": "Python 3 (ipykernel)",
   "language": "python",
   "name": "python3"
  },
  "language_info": {
   "codemirror_mode": {
    "name": "ipython",
    "version": 3
   },
   "file_extension": ".py",
   "mimetype": "text/x-python",
   "name": "python",
   "nbconvert_exporter": "python",
   "pygments_lexer": "ipython3",
   "version": "3.13.5"
  }
 },
 "nbformat": 4,
 "nbformat_minor": 5
}
